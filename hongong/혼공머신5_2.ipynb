{
 "cells": [
  {
   "cell_type": "code",
   "execution_count": 3,
   "source": [
    "import pandas as pd\r\n",
    "\r\n",
    "wine=pd.read_csv(\"https://bit.ly/wine_csv_data\")"
   ],
   "outputs": [],
   "metadata": {}
  },
  {
   "cell_type": "code",
   "execution_count": 5,
   "source": [
    "data=wine[ ['alcohol', 'sugar', 'pH'] ].to_numpy()\r\n",
    "target=wine['class'].to_numpy()"
   ],
   "outputs": [],
   "metadata": {}
  },
  {
   "cell_type": "code",
   "execution_count": 6,
   "source": [
    "from sklearn.model_selection import train_test_split\r\n",
    "\r\n",
    "X_train,X_test,y_train,y_test=train_test_split(data,target,test_size=0.2,random_state=42)"
   ],
   "outputs": [],
   "metadata": {}
  },
  {
   "cell_type": "code",
   "execution_count": 8,
   "source": [
    "# 훈련세트에서 검증세트 추출\r\n",
    "#sub_x,sub_y=훈련세트\r\n",
    "#val_x,val_y=검증세트\r\n",
    "\r\n",
    "sub_x,val_x,sub_y,val_y=train_test_split(X_train,y_train,test_size=0.2,random_state=42)"
   ],
   "outputs": [],
   "metadata": {}
  },
  {
   "cell_type": "code",
   "execution_count": 9,
   "source": [
    "sub_x.shape,val_x.shape"
   ],
   "outputs": [
    {
     "output_type": "execute_result",
     "data": {
      "text/plain": [
       "((4157, 3), (1040, 3))"
      ]
     },
     "metadata": {},
     "execution_count": 9
    }
   ],
   "metadata": {}
  },
  {
   "cell_type": "code",
   "execution_count": 10,
   "source": [
    "from sklearn.tree import DecisionTreeClassifier\r\n",
    "dt=DecisionTreeClassifier(random_state=42)\r\n",
    "dt.fit(sub_x,sub_y)\r\n",
    "print(dt.score(sub_x,sub_y))\r\n",
    "print(dt.score(val_x,val_y))"
   ],
   "outputs": [
    {
     "output_type": "stream",
     "name": "stdout",
     "text": [
      "0.9971133028626413\n",
      "0.864423076923077\n"
     ]
    }
   ],
   "metadata": {}
  },
  {
   "cell_type": "code",
   "execution_count": 11,
   "source": [
    "from sklearn.model_selection import cross_validate\r\n",
    "\r\n",
    "scores=cross_validate(dt,X_train,y_train)\r\n",
    "print(scores)"
   ],
   "outputs": [
    {
     "output_type": "stream",
     "name": "stdout",
     "text": [
      "{'fit_time': array([0.00598598, 0.00598478, 0.00598383, 0.00596857, 0.00698233]), 'score_time': array([0.0009954 , 0.00099611, 0.00101304, 0.00099707, 0.00099921]), 'test_score': array([0.86923077, 0.84615385, 0.87680462, 0.84889317, 0.83541867])}\n"
     ]
    }
   ],
   "metadata": {}
  },
  {
   "cell_type": "code",
   "execution_count": 13,
   "source": [
    "#검증폴드의 점수\r\n",
    "#테스트세트의 점수가 아님\r\n",
    "\r\n",
    "import numpy as np\r\n",
    "np.mean(scores['test_score'])"
   ],
   "outputs": [
    {
     "output_type": "execute_result",
     "data": {
      "text/plain": [
       "0.855300214703487"
      ]
     },
     "metadata": {},
     "execution_count": 13
    }
   ],
   "metadata": {}
  },
  {
   "cell_type": "code",
   "execution_count": 15,
   "source": [
    "#교차검증에서 훈련세트를 섞으려면 분할기를 사용해야함 (교차검증이 아닐시에는 train_test_split에서 자동으로 훈련세트가 섞인다.)\r\n",
    "# 분할기의 종류 : 회귀-KFold , 분류-StartfieldKFold\r\n",
    "\r\n",
    "from sklearn.model_selection import cross_validate\r\n",
    "from sklearn.model_selection import StratifiedKFold\r\n",
    "\r\n",
    "scores=cross_validate(dt,X_train,y_train,cv=StratifiedKFold())\r\n",
    "print(np.mean(scores['test_score']))"
   ],
   "outputs": [
    {
     "output_type": "stream",
     "name": "stdout",
     "text": [
      "0.855300214703487\n"
     ]
    }
   ],
   "metadata": {}
  },
  {
   "cell_type": "code",
   "execution_count": 16,
   "source": [
    "# 10-Fold\r\n",
    "#method-1\r\n",
    "spliter=StratifiedKFold(n_splits=10,shuffle=True,random_state=42)\r\n",
    "score=cross_validate(dt,X_train,y_train,cv=spliter)\r\n",
    "\r\n",
    "print(np.mean(score['test_score']))"
   ],
   "outputs": [
    {
     "output_type": "stream",
     "name": "stdout",
     "text": [
      "0.8574181117533719\n"
     ]
    }
   ],
   "metadata": {}
  },
  {
   "cell_type": "code",
   "execution_count": 17,
   "source": [
    "#method-2\r\n",
    "score=cross_validate(dt,X_train,y_train,cv=StratifiedKFold(n_splits=10,shuffle=True,random_state=42))\r\n",
    "\r\n",
    "print(np.mean(score['test_score']))"
   ],
   "outputs": [
    {
     "output_type": "stream",
     "name": "stdout",
     "text": [
      "0.8574181117533719\n"
     ]
    }
   ],
   "metadata": {}
  },
  {
   "cell_type": "code",
   "execution_count": null,
   "source": [],
   "outputs": [],
   "metadata": {}
  }
 ],
 "metadata": {
  "orig_nbformat": 4,
  "language_info": {
   "name": "python",
   "version": "3.8.8",
   "mimetype": "text/x-python",
   "codemirror_mode": {
    "name": "ipython",
    "version": 3
   },
   "pygments_lexer": "ipython3",
   "nbconvert_exporter": "python",
   "file_extension": ".py"
  },
  "kernelspec": {
   "name": "python3",
   "display_name": "Python 3.8.8 64-bit ('base': conda)"
  },
  "interpreter": {
   "hash": "7e86631c365131cef62360cd2a60920f2088a85e3b5b379ce36677a33b636180"
  }
 },
 "nbformat": 4,
 "nbformat_minor": 2
}