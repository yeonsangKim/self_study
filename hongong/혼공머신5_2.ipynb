{
 "cells": [
  {
   "cell_type": "code",
   "execution_count": 97,
   "source": [
    "import pandas as pd\r\n",
    "\r\n",
    "wine=pd.read_csv(\"https://bit.ly/wine_csv_data\")"
   ],
   "outputs": [],
   "metadata": {}
  },
  {
   "cell_type": "code",
   "execution_count": 98,
   "source": [
    "data=wine[ ['alcohol', 'sugar', 'pH'] ].to_numpy()\r\n",
    "target=wine['class'].to_numpy()"
   ],
   "outputs": [],
   "metadata": {}
  },
  {
   "cell_type": "code",
   "execution_count": 99,
   "source": [
    "from sklearn.model_selection import train_test_split\r\n",
    "\r\n",
    "X_train,X_test,y_train,y_test=train_test_split(data,target,test_size=0.2,random_state=42)"
   ],
   "outputs": [],
   "metadata": {}
  },
  {
   "cell_type": "code",
   "execution_count": 100,
   "source": [
    "# 훈련세트에서 검증세트 추출\r\n",
    "#sub_x,sub_y=훈련세트\r\n",
    "#val_x,val_y=검증세트\r\n",
    "\r\n",
    "sub_x,val_x,sub_y,val_y=train_test_split(X_train,y_train,test_size=0.2,random_state=42)"
   ],
   "outputs": [],
   "metadata": {}
  },
  {
   "cell_type": "code",
   "execution_count": 101,
   "source": [
    "sub_x.shape,val_x.shape"
   ],
   "outputs": [
    {
     "output_type": "execute_result",
     "data": {
      "text/plain": [
       "((4157, 3), (1040, 3))"
      ]
     },
     "metadata": {},
     "execution_count": 101
    }
   ],
   "metadata": {}
  },
  {
   "cell_type": "code",
   "execution_count": 102,
   "source": [
    "from sklearn.tree import DecisionTreeClassifier\r\n",
    "dt=DecisionTreeClassifier(random_state=42)\r\n",
    "dt.fit(sub_x,sub_y)\r\n",
    "print(dt.score(sub_x,sub_y))\r\n",
    "print(dt.score(val_x,val_y))"
   ],
   "outputs": [
    {
     "output_type": "stream",
     "name": "stdout",
     "text": [
      "0.9971133028626413\n",
      "0.864423076923077\n"
     ]
    }
   ],
   "metadata": {}
  },
  {
   "cell_type": "code",
   "execution_count": 103,
   "source": [
    "from sklearn.model_selection import cross_validate\r\n",
    "\r\n",
    "scores=cross_validate(dt,X_train,y_train)\r\n",
    "print(scores)"
   ],
   "outputs": [
    {
     "output_type": "stream",
     "name": "stdout",
     "text": [
      "{'fit_time': array([0.00504589, 0.01006556, 0.01019931, 0.        , 0.01276469]), 'score_time': array([0., 0., 0., 0., 0.]), 'test_score': array([0.86923077, 0.84615385, 0.87680462, 0.84889317, 0.83541867])}\n"
     ]
    }
   ],
   "metadata": {}
  },
  {
   "cell_type": "code",
   "execution_count": 104,
   "source": [
    "#검증폴드의 점수\r\n",
    "#테스트세트의 점수가 아님\r\n",
    "\r\n",
    "import numpy as np\r\n",
    "np.mean(scores['test_score'])"
   ],
   "outputs": [
    {
     "output_type": "execute_result",
     "data": {
      "text/plain": [
       "0.855300214703487"
      ]
     },
     "metadata": {},
     "execution_count": 104
    }
   ],
   "metadata": {}
  },
  {
   "cell_type": "code",
   "execution_count": 105,
   "source": [
    "#교차검증에서 훈련세트를 섞으려면 분할기를 사용해야함 (교차검증이 아닐시에는 train_test_split에서 자동으로 훈련세트가 섞인다.)\r\n",
    "# 분할기의 종류 : 회귀-KFold , 분류-StartfieldKFold\r\n",
    "\r\n",
    "from sklearn.model_selection import cross_validate\r\n",
    "from sklearn.model_selection import StratifiedKFold\r\n",
    "\r\n",
    "scores=cross_validate(dt,X_train,y_train,cv=StratifiedKFold())\r\n",
    "print(np.mean(scores['test_score']))"
   ],
   "outputs": [
    {
     "output_type": "stream",
     "name": "stdout",
     "text": [
      "0.855300214703487\n"
     ]
    }
   ],
   "metadata": {}
  },
  {
   "cell_type": "code",
   "execution_count": 106,
   "source": [
    "# 10-Fold\r\n",
    "#method-1\r\n",
    "spliter=StratifiedKFold(n_splits=10,shuffle=True,random_state=42)\r\n",
    "score=cross_validate(dt,X_train,y_train,cv=spliter)\r\n",
    "\r\n",
    "print(np.mean(score['test_score']))"
   ],
   "outputs": [
    {
     "output_type": "stream",
     "name": "stdout",
     "text": [
      "0.8574181117533719\n"
     ]
    }
   ],
   "metadata": {}
  },
  {
   "cell_type": "code",
   "execution_count": 107,
   "source": [
    "#method-2\r\n",
    "score=cross_validate(dt,X_train,y_train,cv=StratifiedKFold(n_splits=10,shuffle=True,random_state=42))\r\n",
    "\r\n",
    "print(np.mean(score['test_score']))"
   ],
   "outputs": [
    {
     "output_type": "stream",
     "name": "stdout",
     "text": [
      "0.8574181117533719\n"
     ]
    }
   ],
   "metadata": {}
  },
  {
   "cell_type": "code",
   "execution_count": 108,
   "source": [
    "#그리드 서치 : 하이퍼파라미터탐색 + 교차검증\r\n",
    "#min_impurity_decrease 0.0001~0.0005까지 실행\r\n",
    "#cv 의 기본값은 5-fold , 따라서 25개의 모델을 훈련\r\n",
    "from sklearn.model_selection import GridSearchCV\r\n",
    "params={'min_impurity_decrease':[0.0001,0.0002,0.0003,0.0004,0.0005]}\r\n",
    "\r\n",
    "gs=GridSearchCV(DecisionTreeClassifier(random_state=42), params,n_jobs=-1)\r\n",
    "gs.fit(X_train,y_train)\r\n"
   ],
   "outputs": [
    {
     "output_type": "execute_result",
     "data": {
      "text/plain": [
       "GridSearchCV(estimator=DecisionTreeClassifier(random_state=42), n_jobs=-1,\n",
       "             param_grid={'min_impurity_decrease': [0.0001, 0.0002, 0.0003,\n",
       "                                                   0.0004, 0.0005]})"
      ]
     },
     "metadata": {},
     "execution_count": 108
    }
   ],
   "metadata": {}
  },
  {
   "cell_type": "code",
   "execution_count": 109,
   "source": [
    "#검증점수가 가장 높은 모델의 파라미터 조합으로 전체 훈련세트에서 자동으로 다시 모델을 훈련\r\n",
    "#최적의 파라미터에서의 score\r\n",
    "\r\n",
    "dt = gs.best_estimator_\r\n",
    "print(dt.score(X_train,y_train))"
   ],
   "outputs": [
    {
     "output_type": "stream",
     "name": "stdout",
     "text": [
      "0.9615162593804117\n"
     ]
    }
   ],
   "metadata": {}
  },
  {
   "cell_type": "code",
   "execution_count": 110,
   "source": [
    "print(gs.best_params_)"
   ],
   "outputs": [
    {
     "output_type": "stream",
     "name": "stdout",
     "text": [
      "{'min_impurity_decrease': 0.0001}\n"
     ]
    }
   ],
   "metadata": {}
  },
  {
   "cell_type": "code",
   "execution_count": 111,
   "source": [
    "print(gs.cv_results_['mean_test_score'])"
   ],
   "outputs": [
    {
     "output_type": "stream",
     "name": "stdout",
     "text": [
      "[0.86819297 0.86453617 0.86492226 0.86780891 0.86761605]\n"
     ]
    }
   ],
   "metadata": {}
  },
  {
   "cell_type": "code",
   "execution_count": 112,
   "source": [
    "#실습\r\n",
    "#np.arange= 매개변수 1부터 2까지 3을 더하면서 ..\r\n",
    "#range = 정수만 사용가능\r\n",
    "\r\n",
    "params={'min_impurity_decrease' : np.arange(0.0001,0.001,0.0001),\\\r\n",
    "        'max_depth':range(5,20,1),\\\r\n",
    "        'min_samples_split' : range(2,100,10) }"
   ],
   "outputs": [],
   "metadata": {}
  },
  {
   "cell_type": "code",
   "execution_count": 113,
   "source": [
    "gs=GridSearchCV(DecisionTreeClassifier(random_state=42),params,n_jobs=-1)\r\n",
    "gs.fit(X_train,y_train)\r\n"
   ],
   "outputs": [
    {
     "output_type": "execute_result",
     "data": {
      "text/plain": [
       "GridSearchCV(estimator=DecisionTreeClassifier(random_state=42), n_jobs=-1,\n",
       "             param_grid={'max_depth': range(5, 20),\n",
       "                         'min_impurity_decrease': array([0.0001, 0.0002, 0.0003, 0.0004, 0.0005, 0.0006, 0.0007, 0.0008,\n",
       "       0.0009]),\n",
       "                         'min_samples_split': range(2, 100, 10)})"
      ]
     },
     "metadata": {},
     "execution_count": 113
    }
   ],
   "metadata": {}
  },
  {
   "cell_type": "code",
   "execution_count": 114,
   "source": [
    "print(gs.best_params_)"
   ],
   "outputs": [
    {
     "output_type": "stream",
     "name": "stdout",
     "text": [
      "{'max_depth': 14, 'min_impurity_decrease': 0.0004, 'min_samples_split': 12}\n"
     ]
    }
   ],
   "metadata": {}
  },
  {
   "cell_type": "code",
   "execution_count": 115,
   "source": [
    "#교차검증 점수\r\n",
    "\r\n",
    "print(np.max(gs.cv_results_['mean_test_score']))"
   ],
   "outputs": [
    {
     "output_type": "stream",
     "name": "stdout",
     "text": [
      "0.8683865773302731\n"
     ]
    }
   ],
   "metadata": {}
  },
  {
   "cell_type": "code",
   "execution_count": 116,
   "source": [
    "#best_estimator_ = 최적의 매개변수로 전체 데이터를 훈련하여 score추출\r\n",
    "#cv_results_ = K번의 교차검증으로 추출한 score\r\n",
    "\r\n"
   ],
   "outputs": [],
   "metadata": {}
  },
  {
   "cell_type": "code",
   "execution_count": 117,
   "source": [
    "#랜덤서치"
   ],
   "outputs": [],
   "metadata": {}
  },
  {
   "cell_type": "code",
   "execution_count": 118,
   "source": [
    "from scipy.stats import uniform , randint  #uniform = 실수, randint = 정수      randomize\r\n",
    "rgen=randint(0,10)\r\n",
    "rgen.rvs(10) #10개를 랜덤하게 추출"
   ],
   "outputs": [
    {
     "output_type": "execute_result",
     "data": {
      "text/plain": [
       "array([8, 6, 0, 5, 8, 0, 9, 2, 4, 8])"
      ]
     },
     "metadata": {},
     "execution_count": 118
    }
   ],
   "metadata": {}
  },
  {
   "cell_type": "code",
   "execution_count": 119,
   "source": [
    "np.unique(rgen.rvs(1000), return_counts=True)"
   ],
   "outputs": [
    {
     "output_type": "execute_result",
     "data": {
      "text/plain": [
       "(array([0, 1, 2, 3, 4, 5, 6, 7, 8, 9]),\n",
       " array([ 98, 110, 115,  98,  92,  98,  86, 114, 100,  89], dtype=int64))"
      ]
     },
     "metadata": {},
     "execution_count": 119
    }
   ],
   "metadata": {}
  },
  {
   "cell_type": "code",
   "execution_count": 120,
   "source": [
    "ugen=uniform(0,1)\r\n",
    "ugen.rvs(10)"
   ],
   "outputs": [
    {
     "output_type": "execute_result",
     "data": {
      "text/plain": [
       "array([0.41980398, 0.10499936, 0.72569078, 0.98781683, 0.64748369,\n",
       "       0.53822977, 0.34904012, 0.87237185, 0.62070993, 0.44258596])"
      ]
     },
     "metadata": {},
     "execution_count": 120
    }
   ],
   "metadata": {}
  },
  {
   "cell_type": "code",
   "execution_count": 121,
   "source": [
    "#######################################\r\n",
    "# 랜덤서치로 추출\r\n",
    "params={'min_impurity_decrease' :uniform(0.0001,0.001),\\\r\n",
    "        'max_depth':randint(20,50),\\\r\n",
    "        'min_samples_split' : randint(2,25),\r\n",
    "        'min_samples_leaf' : randint(1,25) }"
   ],
   "outputs": [],
   "metadata": {}
  },
  {
   "cell_type": "code",
   "execution_count": 122,
   "source": [
    "from sklearn.model_selection import RandomizedSearchCV\r\n",
    "\r\n",
    "gs=RandomizedSearchCV(DecisionTreeClassifier(random_state=42), params,n_iter=100,n_jobs=-1, random_state=42)\r\n",
    "gs.fit(X_train,y_train)"
   ],
   "outputs": [
    {
     "output_type": "execute_result",
     "data": {
      "text/plain": [
       "RandomizedSearchCV(estimator=DecisionTreeClassifier(random_state=42),\n",
       "                   n_iter=100, n_jobs=-1,\n",
       "                   param_distributions={'max_depth': <scipy.stats._distn_infrastructure.rv_frozen object at 0x000001996A26DA30>,\n",
       "                                        'min_impurity_decrease': <scipy.stats._distn_infrastructure.rv_frozen object at 0x000001996A29ABB0>,\n",
       "                                        'min_samples_leaf': <scipy.stats._distn_infrastructure.rv_frozen object at 0x000001996B4C1850>,\n",
       "                                        'min_samples_split': <scipy.stats._distn_infrastructure.rv_frozen object at 0x000001996B5F1730>},\n",
       "                   random_state=42)"
      ]
     },
     "metadata": {},
     "execution_count": 122
    }
   ],
   "metadata": {}
  },
  {
   "cell_type": "code",
   "execution_count": 123,
   "source": [
    "gs.best_estimator_"
   ],
   "outputs": [
    {
     "output_type": "execute_result",
     "data": {
      "text/plain": [
       "DecisionTreeClassifier(max_depth=39,\n",
       "                       min_impurity_decrease=0.00034102546602601173,\n",
       "                       min_samples_leaf=7, min_samples_split=13,\n",
       "                       random_state=42)"
      ]
     },
     "metadata": {},
     "execution_count": 123
    }
   ],
   "metadata": {}
  },
  {
   "cell_type": "code",
   "execution_count": 124,
   "source": [
    "gs.best_params_"
   ],
   "outputs": [
    {
     "output_type": "execute_result",
     "data": {
      "text/plain": [
       "{'max_depth': 39,\n",
       " 'min_impurity_decrease': 0.00034102546602601173,\n",
       " 'min_samples_leaf': 7,\n",
       " 'min_samples_split': 13}"
      ]
     },
     "metadata": {},
     "execution_count": 124
    }
   ],
   "metadata": {}
  },
  {
   "cell_type": "code",
   "execution_count": 128,
   "source": [
    "#교차검증 최고의 점수\r\n",
    "print(np.max(gs.cv_results_['mean_test_score']))"
   ],
   "outputs": [
    {
     "output_type": "stream",
     "name": "stdout",
     "text": [
      "0.8695428296438884\n"
     ]
    }
   ],
   "metadata": {}
  },
  {
   "cell_type": "code",
   "execution_count": 131,
   "source": [
    "dt=gs.best_estimator_\r\n",
    "print(dt.score(X_test,y_test))"
   ],
   "outputs": [
    {
     "output_type": "stream",
     "name": "stdout",
     "text": [
      "0.86\n"
     ]
    }
   ],
   "metadata": {}
  },
  {
   "cell_type": "code",
   "execution_count": null,
   "source": [],
   "outputs": [],
   "metadata": {}
  }
 ],
 "metadata": {
  "orig_nbformat": 4,
  "language_info": {
   "name": "python",
   "version": "3.8.8",
   "mimetype": "text/x-python",
   "codemirror_mode": {
    "name": "ipython",
    "version": 3
   },
   "pygments_lexer": "ipython3",
   "nbconvert_exporter": "python",
   "file_extension": ".py"
  },
  "kernelspec": {
   "name": "python3",
   "display_name": "Python 3.8.8 64-bit ('base': conda)"
  },
  "interpreter": {
   "hash": "7e86631c365131cef62360cd2a60920f2088a85e3b5b379ce36677a33b636180"
  }
 },
 "nbformat": 4,
 "nbformat_minor": 2
}