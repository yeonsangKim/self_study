{
 "cells": [
  {
   "cell_type": "code",
   "execution_count": 12,
   "source": [
    "import numpy as np\r\n",
    "import pandas as pd\r\n",
    "from sklearn.model_selection import train_test_split"
   ],
   "outputs": [],
   "metadata": {}
  },
  {
   "cell_type": "code",
   "execution_count": 13,
   "source": [
    "wine=pd.read_csv('https://bit.ly/wine_csv_data')\r\n",
    "\r\n",
    "data=wine[['alcohol', 'sugar', 'pH']].to_numpy()\r\n",
    "target=wine['class'].to_numpy()\r\n",
    "\r\n",
    "X_train,X_test,y_train,y_test=train_test_split(data,target,test_size=0.2,random_state=42)"
   ],
   "outputs": [],
   "metadata": {}
  },
  {
   "cell_type": "code",
   "execution_count": 14,
   "source": [
    "from sklearn.model_selection import cross_validate\r\n",
    "from sklearn.ensemble import RandomForestClassifier\r\n",
    "\r\n",
    "rf= RandomForestClassifier(n_jobs=-1,random_state=42)\r\n",
    "scores=cross_validate(rf,X_train,y_train,return_train_score=True, n_jobs=-1)\r\n",
    "\r\n",
    "print(np.mean(scores['train_score']),np.mean(scores['test_score']))\r\n"
   ],
   "outputs": [
    {
     "output_type": "stream",
     "name": "stdout",
     "text": [
      "0.9973541965122431 0.8905151032797809\n"
     ]
    }
   ],
   "metadata": {}
  },
  {
   "cell_type": "code",
   "execution_count": 15,
   "source": [
    "rf.fit(X_train,y_train)\r\n",
    "rf.feature_importances_"
   ],
   "outputs": [
    {
     "output_type": "execute_result",
     "data": {
      "text/plain": [
       "array([0.23167441, 0.50039841, 0.26792718])"
      ]
     },
     "metadata": {},
     "execution_count": 15
    }
   ],
   "metadata": {}
  },
  {
   "cell_type": "code",
   "execution_count": 16,
   "source": [
    "#oob_score_ : 부트스트랩 샘플에 포함되지 않고 남는 훈련데이터의 스코어\r\n",
    "rf=RandomForestClassifier(oob_score=True,n_jobs=-1,random_state=42)\r\n",
    "rf.fit(X_train,y_train)\r\n",
    "print(rf.oob_score_)\r\n"
   ],
   "outputs": [
    {
     "output_type": "stream",
     "name": "stdout",
     "text": [
      "0.8934000384837406\n"
     ]
    }
   ],
   "metadata": {}
  },
  {
   "cell_type": "code",
   "execution_count": 17,
   "source": [
    "#Extra _Tree : bootstrap을 사용하지 않음 (전체훈련세트 사용)(중복허용x)(무작위 분할 = 분류기를 랜덤하게), 랜덤포레스트와 비슷하다\r\n",
    "#spliter== random , but randomforestclassifier  spliter==best\r\n",
    "\r\n",
    "from sklearn.ensemble import ExtraTreesClassifier\r\n",
    "\r\n",
    "et=ExtraTreesClassifier(n_jobs=-1,random_state=42)\r\n",
    "scores=cross_validate(et,X_train,y_train,return_train_score=True,n_jobs=-1)\r\n",
    "\r\n",
    "print(np.mean(scores['train_score']))\r\n",
    "print(np.mean(scores['test_score']))"
   ],
   "outputs": [
    {
     "output_type": "stream",
     "name": "stdout",
     "text": [
      "0.9974503966084433\n",
      "0.8887848893166506\n"
     ]
    }
   ],
   "metadata": {}
  },
  {
   "cell_type": "code",
   "execution_count": 18,
   "source": [
    "et.fit(X_train,y_train)\r\n",
    "print(et.feature_importances_)"
   ],
   "outputs": [
    {
     "output_type": "stream",
     "name": "stdout",
     "text": [
      "[0.20183568 0.52242907 0.27573525]\n"
     ]
    }
   ],
   "metadata": {}
  },
  {
   "cell_type": "code",
   "execution_count": 21,
   "source": [
    "#그레디언트 부스팅 : 깊이가 얉은 결정트리를 사용 (기본적으로 깊이 3, 트리 100개) , 때문에 과대적합에 강하다\r\n",
    "#경사 하강법을 사용하여 트리를 앙상블에 추가.\r\n",
    "#return_train_score : 검증 뿐만 아닌 훈련세트의 스코어\r\n",
    "\r\n",
    "from sklearn.ensemble import GradientBoostingClassifier\r\n",
    "\r\n",
    "gd=GradientBoostingClassifier(random_state=42)\r\n",
    "scores=cross_validate(gd,X_train,y_train,return_train_score=True,n_jobs=-1)\r\n",
    "\r\n",
    "print(np.mean(scores['train_score']))\r\n",
    "print(np.mean(scores['test_score']))\r\n",
    "print(scores)\r\n"
   ],
   "outputs": [
    {
     "output_type": "stream",
     "name": "stdout",
     "text": [
      "0.8881086892152563\n",
      "0.8720430147331015\n",
      "{'fit_time': array([0.24235654, 0.24534941, 0.34674048, 0.3467412 , 0.34973478]), 'score_time': array([0.00199485, 0.00302458, 0.00299311, 0.00299287, 0.00398946]), 'test_score': array([0.86634615, 0.87019231, 0.89412897, 0.86044273, 0.86910491]), 'train_score': array([0.89006495, 0.88958383, 0.88239538, 0.89249639, 0.88600289])}\n"
     ]
    }
   ],
   "metadata": {}
  },
  {
   "cell_type": "code",
   "execution_count": 25,
   "source": [
    "#트리 100개에서 500개로 늘린 score\r\n",
    "from sklearn.ensemble import GradientBoostingClassifier\r\n",
    "\r\n",
    "gd=GradientBoostingClassifier(n_estimators=500,random_state=42,learning_rate=0.3)\r\n",
    "scores=cross_validate(gd,X_train,y_train,return_train_score=True,n_jobs=-1)\r\n",
    "\r\n",
    "print(np.mean(scores['train_score']))\r\n",
    "print(np.mean(scores['test_score']))"
   ],
   "outputs": [
    {
     "output_type": "stream",
     "name": "stdout",
     "text": [
      "0.9574268869433652\n",
      "0.8778161323758052\n"
     ]
    }
   ],
   "metadata": {}
  },
  {
   "cell_type": "code",
   "execution_count": 28,
   "source": [
    "#히스토그램 기반 그레이디언트 부스팅 : 입력 특성을 256개의 구간으로 나눈다. 256개의 구간중에서 하나를 떼어놓고 누락된 값을 위해서 사용한다\r\n",
    "\r\n",
    "from sklearn.experimental import enable_hist_gradient_boosting\r\n",
    "from sklearn.ensemble import HistGradientBoostingClassifier\r\n",
    "\r\n",
    "hgb=HistGradientBoostingClassifier(random_state=42)\r\n",
    "scores=cross_validate(hgb,X_train,y_train,return_train_score=True)\r\n",
    "\r\n",
    "print(np.mean(scores['train_score']))\r\n",
    "print(np.mean(scores['test_score']))\r\n",
    "\r\n",
    "#과대적합을 잘 억제하면서 그레이디언트 부스팅 보다 조금 더 높은 성능을 제공."
   ],
   "outputs": [
    {
     "output_type": "stream",
     "name": "stdout",
     "text": [
      "0.9321723946453317\n",
      "0.8801241948619236\n"
     ]
    }
   ],
   "metadata": {}
  },
  {
   "cell_type": "code",
   "execution_count": 30,
   "source": [
    "from sklearn.inspection import permutation_importance  #특성중요도\r\n",
    "\r\n",
    "hgb.fit(X_train,y_train)\r\n",
    "result(permutation_importance(hgb,X_train,y_train,n_repeats=10, random_state=42,n_jobs=-1))        #n_repeats = 섞는 횟수"
   ],
   "outputs": [
    {
     "output_type": "execute_result",
     "data": {
      "text/plain": [
       "<bound method BaseEstimator.get_params of HistGradientBoostingClassifier(random_state=42)>"
      ]
     },
     "metadata": {},
     "execution_count": 30
    }
   ],
   "metadata": {}
  },
  {
   "cell_type": "code",
   "execution_count": null,
   "source": [],
   "outputs": [],
   "metadata": {}
  }
 ],
 "metadata": {
  "orig_nbformat": 4,
  "language_info": {
   "name": "python",
   "version": "3.8.8",
   "mimetype": "text/x-python",
   "codemirror_mode": {
    "name": "ipython",
    "version": 3
   },
   "pygments_lexer": "ipython3",
   "nbconvert_exporter": "python",
   "file_extension": ".py"
  },
  "kernelspec": {
   "name": "python3",
   "display_name": "Python 3.8.8 64-bit ('base': conda)"
  },
  "interpreter": {
   "hash": "7e86631c365131cef62360cd2a60920f2088a85e3b5b379ce36677a33b636180"
  }
 },
 "nbformat": 4,
 "nbformat_minor": 2
}