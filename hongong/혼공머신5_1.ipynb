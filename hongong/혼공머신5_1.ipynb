{
 "cells": [
  {
   "cell_type": "code",
   "execution_count": 52,
   "source": [
    "#로지스틱 회귀로 와인분류\r\n",
    "import pandas as pd\r\n",
    "wine = pd.read_csv('https://bit.ly/wine_csv_data')"
   ],
   "outputs": [],
   "metadata": {}
  },
  {
   "cell_type": "code",
   "execution_count": 53,
   "source": [
    "wine.head()\r\n",
    "#'class'=종속변수 \r\n",
    "#0=red, 1=white"
   ],
   "outputs": [
    {
     "output_type": "execute_result",
     "data": {
      "text/plain": [
       "   alcohol  sugar    pH  class\n",
       "0      9.4    1.9  3.51    0.0\n",
       "1      9.8    2.6  3.20    0.0\n",
       "2      9.8    2.3  3.26    0.0\n",
       "3      9.8    1.9  3.16    0.0\n",
       "4      9.4    1.9  3.51    0.0"
      ],
      "text/html": [
       "<div>\n",
       "<style scoped>\n",
       "    .dataframe tbody tr th:only-of-type {\n",
       "        vertical-align: middle;\n",
       "    }\n",
       "\n",
       "    .dataframe tbody tr th {\n",
       "        vertical-align: top;\n",
       "    }\n",
       "\n",
       "    .dataframe thead th {\n",
       "        text-align: right;\n",
       "    }\n",
       "</style>\n",
       "<table border=\"1\" class=\"dataframe\">\n",
       "  <thead>\n",
       "    <tr style=\"text-align: right;\">\n",
       "      <th></th>\n",
       "      <th>alcohol</th>\n",
       "      <th>sugar</th>\n",
       "      <th>pH</th>\n",
       "      <th>class</th>\n",
       "    </tr>\n",
       "  </thead>\n",
       "  <tbody>\n",
       "    <tr>\n",
       "      <th>0</th>\n",
       "      <td>9.4</td>\n",
       "      <td>1.9</td>\n",
       "      <td>3.51</td>\n",
       "      <td>0.0</td>\n",
       "    </tr>\n",
       "    <tr>\n",
       "      <th>1</th>\n",
       "      <td>9.8</td>\n",
       "      <td>2.6</td>\n",
       "      <td>3.20</td>\n",
       "      <td>0.0</td>\n",
       "    </tr>\n",
       "    <tr>\n",
       "      <th>2</th>\n",
       "      <td>9.8</td>\n",
       "      <td>2.3</td>\n",
       "      <td>3.26</td>\n",
       "      <td>0.0</td>\n",
       "    </tr>\n",
       "    <tr>\n",
       "      <th>3</th>\n",
       "      <td>9.8</td>\n",
       "      <td>1.9</td>\n",
       "      <td>3.16</td>\n",
       "      <td>0.0</td>\n",
       "    </tr>\n",
       "    <tr>\n",
       "      <th>4</th>\n",
       "      <td>9.4</td>\n",
       "      <td>1.9</td>\n",
       "      <td>3.51</td>\n",
       "      <td>0.0</td>\n",
       "    </tr>\n",
       "  </tbody>\n",
       "</table>\n",
       "</div>"
      ]
     },
     "metadata": {},
     "execution_count": 53
    }
   ],
   "metadata": {}
  },
  {
   "cell_type": "code",
   "execution_count": 54,
   "source": [
    "wine.info()"
   ],
   "outputs": [
    {
     "output_type": "stream",
     "name": "stdout",
     "text": [
      "<class 'pandas.core.frame.DataFrame'>\n",
      "RangeIndex: 6497 entries, 0 to 6496\n",
      "Data columns (total 4 columns):\n",
      " #   Column   Non-Null Count  Dtype  \n",
      "---  ------   --------------  -----  \n",
      " 0   alcohol  6497 non-null   float64\n",
      " 1   sugar    6497 non-null   float64\n",
      " 2   pH       6497 non-null   float64\n",
      " 3   class    6497 non-null   float64\n",
      "dtypes: float64(4)\n",
      "memory usage: 203.2 KB\n"
     ]
    }
   ],
   "metadata": {}
  },
  {
   "cell_type": "code",
   "execution_count": 55,
   "source": [
    "wine.describe()"
   ],
   "outputs": [
    {
     "output_type": "execute_result",
     "data": {
      "text/plain": [
       "           alcohol        sugar           pH        class\n",
       "count  6497.000000  6497.000000  6497.000000  6497.000000\n",
       "mean     10.491801     5.443235     3.218501     0.753886\n",
       "std       1.192712     4.757804     0.160787     0.430779\n",
       "min       8.000000     0.600000     2.720000     0.000000\n",
       "25%       9.500000     1.800000     3.110000     1.000000\n",
       "50%      10.300000     3.000000     3.210000     1.000000\n",
       "75%      11.300000     8.100000     3.320000     1.000000\n",
       "max      14.900000    65.800000     4.010000     1.000000"
      ],
      "text/html": [
       "<div>\n",
       "<style scoped>\n",
       "    .dataframe tbody tr th:only-of-type {\n",
       "        vertical-align: middle;\n",
       "    }\n",
       "\n",
       "    .dataframe tbody tr th {\n",
       "        vertical-align: top;\n",
       "    }\n",
       "\n",
       "    .dataframe thead th {\n",
       "        text-align: right;\n",
       "    }\n",
       "</style>\n",
       "<table border=\"1\" class=\"dataframe\">\n",
       "  <thead>\n",
       "    <tr style=\"text-align: right;\">\n",
       "      <th></th>\n",
       "      <th>alcohol</th>\n",
       "      <th>sugar</th>\n",
       "      <th>pH</th>\n",
       "      <th>class</th>\n",
       "    </tr>\n",
       "  </thead>\n",
       "  <tbody>\n",
       "    <tr>\n",
       "      <th>count</th>\n",
       "      <td>6497.000000</td>\n",
       "      <td>6497.000000</td>\n",
       "      <td>6497.000000</td>\n",
       "      <td>6497.000000</td>\n",
       "    </tr>\n",
       "    <tr>\n",
       "      <th>mean</th>\n",
       "      <td>10.491801</td>\n",
       "      <td>5.443235</td>\n",
       "      <td>3.218501</td>\n",
       "      <td>0.753886</td>\n",
       "    </tr>\n",
       "    <tr>\n",
       "      <th>std</th>\n",
       "      <td>1.192712</td>\n",
       "      <td>4.757804</td>\n",
       "      <td>0.160787</td>\n",
       "      <td>0.430779</td>\n",
       "    </tr>\n",
       "    <tr>\n",
       "      <th>min</th>\n",
       "      <td>8.000000</td>\n",
       "      <td>0.600000</td>\n",
       "      <td>2.720000</td>\n",
       "      <td>0.000000</td>\n",
       "    </tr>\n",
       "    <tr>\n",
       "      <th>25%</th>\n",
       "      <td>9.500000</td>\n",
       "      <td>1.800000</td>\n",
       "      <td>3.110000</td>\n",
       "      <td>1.000000</td>\n",
       "    </tr>\n",
       "    <tr>\n",
       "      <th>50%</th>\n",
       "      <td>10.300000</td>\n",
       "      <td>3.000000</td>\n",
       "      <td>3.210000</td>\n",
       "      <td>1.000000</td>\n",
       "    </tr>\n",
       "    <tr>\n",
       "      <th>75%</th>\n",
       "      <td>11.300000</td>\n",
       "      <td>8.100000</td>\n",
       "      <td>3.320000</td>\n",
       "      <td>1.000000</td>\n",
       "    </tr>\n",
       "    <tr>\n",
       "      <th>max</th>\n",
       "      <td>14.900000</td>\n",
       "      <td>65.800000</td>\n",
       "      <td>4.010000</td>\n",
       "      <td>1.000000</td>\n",
       "    </tr>\n",
       "  </tbody>\n",
       "</table>\n",
       "</div>"
      ]
     },
     "metadata": {},
     "execution_count": 55
    }
   ],
   "metadata": {}
  },
  {
   "cell_type": "code",
   "execution_count": 56,
   "source": [
    "# 독립변수간 스케일이 다르므로 표준화\r\n",
    "# 그전에 데이터 프레임을 넘파이 배열로 바꿔줌"
   ],
   "outputs": [],
   "metadata": {}
  },
  {
   "cell_type": "code",
   "execution_count": 64,
   "source": [
    "data = wine[['alcohol','sugar','pH']].to_numpy()\r\n",
    "target = wine['class'].to_numpy()"
   ],
   "outputs": [],
   "metadata": {}
  },
  {
   "cell_type": "code",
   "execution_count": 65,
   "source": [
    "data,target"
   ],
   "outputs": [
    {
     "output_type": "execute_result",
     "data": {
      "text/plain": [
       "(array([[ 9.4 ,  1.9 ,  3.51],\n",
       "        [ 9.8 ,  2.6 ,  3.2 ],\n",
       "        [ 9.8 ,  2.3 ,  3.26],\n",
       "        ...,\n",
       "        [ 9.4 ,  1.2 ,  2.99],\n",
       "        [12.8 ,  1.1 ,  3.34],\n",
       "        [11.8 ,  0.8 ,  3.26]]),\n",
       " array([0., 0., 0., ..., 1., 1., 1.]))"
      ]
     },
     "metadata": {},
     "execution_count": 65
    }
   ],
   "metadata": {}
  },
  {
   "cell_type": "code",
   "execution_count": 66,
   "source": [
    "from sklearn.model_selection import train_test_split\r\n",
    "X_train, X_test, y_train, y_test= train_test_split(data,target,test_size=0.2,random_state=42)"
   ],
   "outputs": [],
   "metadata": {}
  },
  {
   "cell_type": "code",
   "execution_count": 67,
   "source": [
    "X_train.shape,X_test.shape"
   ],
   "outputs": [
    {
     "output_type": "execute_result",
     "data": {
      "text/plain": [
       "((5197, 3), (1300, 3))"
      ]
     },
     "metadata": {},
     "execution_count": 67
    }
   ],
   "metadata": {}
  },
  {
   "cell_type": "code",
   "execution_count": 70,
   "source": [
    "from sklearn.preprocessing import StandardScaler\r\n",
    "\r\n",
    "ss=StandardScaler()\r\n",
    "ss.fit(X_train)\r\n",
    "train_scaled=ss.transform(X_train)\r\n",
    "test_scaled=ss.transform(X_test)"
   ],
   "outputs": [],
   "metadata": {}
  },
  {
   "cell_type": "code",
   "execution_count": 74,
   "source": [
    "from sklearn.linear_model import LogisticRegression\r\n",
    "lr=LogisticRegression()\r\n",
    "lr.fit(train_scaled,y_train)\r\n",
    "print(lr.score(train_scaled,y_train))"
   ],
   "outputs": [
    {
     "output_type": "stream",
     "name": "stdout",
     "text": [
      "0.7808350971714451\n"
     ]
    }
   ],
   "metadata": {}
  },
  {
   "cell_type": "code",
   "execution_count": 75,
   "source": [
    "#위는 점수가 낮으므로 학습이 제대로 되지않음.\r\n",
    "#화이트와 레드와인의 구분이 잘 안됨"
   ],
   "outputs": [],
   "metadata": {}
  },
  {
   "cell_type": "code",
   "execution_count": 76,
   "source": [
    "#결정트리 사용(표준화가 필요없다)\r\n",
    "#도메인 지식이 없는 사람들에게 설명하기 용이함"
   ],
   "outputs": [],
   "metadata": {}
  },
  {
   "cell_type": "code",
   "execution_count": 91,
   "source": [
    "from sklearn.tree import DecisionTreeClassifier\r\n",
    "dt=DecisionTreeClassifier(max_depth=3,random_state=42)\r\n",
    "dt.fit(train_scaled,y_train)\r\n",
    "dt.score(train_scaled,y_train),dt.score(test_scaled,y_test)"
   ],
   "outputs": [
    {
     "output_type": "execute_result",
     "data": {
      "text/plain": [
       "(0.8454877814123533, 0.8415384615384616)"
      ]
     },
     "metadata": {},
     "execution_count": 91
    }
   ],
   "metadata": {}
  },
  {
   "cell_type": "code",
   "execution_count": 80,
   "source": [
    "# 로지스틱회귀보다는 점수가 올랐지만 과대적합"
   ],
   "outputs": [],
   "metadata": {}
  },
  {
   "cell_type": "code",
   "execution_count": 84,
   "source": [
    "import warnings\r\n",
    "warnings.filterwarnings(\"ignore\")\r\n",
    "!pip install graphviz"
   ],
   "outputs": [
    {
     "output_type": "stream",
     "name": "stdout",
     "text": [
      "Requirement already satisfied: graphviz in c:\\users\\kimyeonsang\\anaconda3\\lib\\site-packages (0.17)\n"
     ]
    }
   ],
   "metadata": {}
  },
  {
   "cell_type": "code",
   "execution_count": 92,
   "source": [
    "from sklearn.tree import export_graphviz\r\n",
    "import graphviz\r\n",
    "\r\n",
    "dot_graph = export_graphviz(dt, out_file=None,\r\n",
    "                class_names=['red','white'],\r\n",
    "                feature_names=['alcohol','sugar','pH'],\r\n",
    "                filled=True)\r\n",
    "display( graphviz.Source(dot_graph) )"
   ],
   "outputs": [
    {
     "output_type": "display_data",
     "data": {
      "text/plain": [
       "<graphviz.files.Source at 0x1d87ea36880>"
      ],
      "image/svg+xml": "<?xml version=\"1.0\" encoding=\"UTF-8\" standalone=\"no\"?>\r\n<!DOCTYPE svg PUBLIC \"-//W3C//DTD SVG 1.1//EN\"\r\n \"http://www.w3.org/Graphics/SVG/1.1/DTD/svg11.dtd\">\r\n<!-- Generated by graphviz version 2.48.0 (20210717.1556)\r\n -->\r\n<!-- Title: Tree Pages: 1 -->\r\n<svg width=\"1039pt\" height=\"433pt\"\r\n viewBox=\"0.00 0.00 1038.50 433.00\" xmlns=\"http://www.w3.org/2000/svg\" xmlns:xlink=\"http://www.w3.org/1999/xlink\">\r\n<g id=\"graph0\" class=\"graph\" transform=\"scale(1 1) rotate(0) translate(4 429)\">\r\n<title>Tree</title>\r\n<polygon fill=\"white\" stroke=\"transparent\" points=\"-4,4 -4,-429 1034.5,-429 1034.5,4 -4,4\"/>\r\n<!-- 0 -->\r\n<g id=\"node1\" class=\"node\">\r\n<title>0</title>\r\n<polygon fill=\"#78bced\" stroke=\"black\" points=\"573.5,-425 442.5,-425 442.5,-342 573.5,-342 573.5,-425\"/>\r\n<text text-anchor=\"middle\" x=\"508\" y=\"-409.8\" font-family=\"Times New Roman,serif\" font-size=\"14.00\">sugar &lt;= &#45;0.239</text>\r\n<text text-anchor=\"middle\" x=\"508\" y=\"-394.8\" font-family=\"Times New Roman,serif\" font-size=\"14.00\">gini = 0.367</text>\r\n<text text-anchor=\"middle\" x=\"508\" y=\"-379.8\" font-family=\"Times New Roman,serif\" font-size=\"14.00\">samples = 5197</text>\r\n<text text-anchor=\"middle\" x=\"508\" y=\"-364.8\" font-family=\"Times New Roman,serif\" font-size=\"14.00\">value = [1258, 3939]</text>\r\n<text text-anchor=\"middle\" x=\"508\" y=\"-349.8\" font-family=\"Times New Roman,serif\" font-size=\"14.00\">class = white</text>\r\n</g>\r\n<!-- 1 -->\r\n<g id=\"node2\" class=\"node\">\r\n<title>1</title>\r\n<polygon fill=\"#bfdff7\" stroke=\"black\" points=\"442.5,-306 311.5,-306 311.5,-223 442.5,-223 442.5,-306\"/>\r\n<text text-anchor=\"middle\" x=\"377\" y=\"-290.8\" font-family=\"Times New Roman,serif\" font-size=\"14.00\">sugar &lt;= &#45;0.802</text>\r\n<text text-anchor=\"middle\" x=\"377\" y=\"-275.8\" font-family=\"Times New Roman,serif\" font-size=\"14.00\">gini = 0.481</text>\r\n<text text-anchor=\"middle\" x=\"377\" y=\"-260.8\" font-family=\"Times New Roman,serif\" font-size=\"14.00\">samples = 2922</text>\r\n<text text-anchor=\"middle\" x=\"377\" y=\"-245.8\" font-family=\"Times New Roman,serif\" font-size=\"14.00\">value = [1177, 1745]</text>\r\n<text text-anchor=\"middle\" x=\"377\" y=\"-230.8\" font-family=\"Times New Roman,serif\" font-size=\"14.00\">class = white</text>\r\n</g>\r\n<!-- 0&#45;&gt;1 -->\r\n<g id=\"edge1\" class=\"edge\">\r\n<title>0&#45;&gt;1</title>\r\n<path fill=\"none\" stroke=\"black\" d=\"M462.55,-341.91C452.08,-332.56 440.86,-322.54 430.1,-312.93\"/>\r\n<polygon fill=\"black\" stroke=\"black\" points=\"432.16,-310.07 422.37,-306.02 427.5,-315.29 432.16,-310.07\"/>\r\n<text text-anchor=\"middle\" x=\"423.78\" y=\"-327.28\" font-family=\"Times New Roman,serif\" font-size=\"14.00\">True</text>\r\n</g>\r\n<!-- 8 -->\r\n<g id=\"node9\" class=\"node\">\r\n<title>8</title>\r\n<polygon fill=\"#40a1e6\" stroke=\"black\" points=\"703,-306 585,-306 585,-223 703,-223 703,-306\"/>\r\n<text text-anchor=\"middle\" x=\"644\" y=\"-290.8\" font-family=\"Times New Roman,serif\" font-size=\"14.00\">sugar &lt;= 0.204</text>\r\n<text text-anchor=\"middle\" x=\"644\" y=\"-275.8\" font-family=\"Times New Roman,serif\" font-size=\"14.00\">gini = 0.069</text>\r\n<text text-anchor=\"middle\" x=\"644\" y=\"-260.8\" font-family=\"Times New Roman,serif\" font-size=\"14.00\">samples = 2275</text>\r\n<text text-anchor=\"middle\" x=\"644\" y=\"-245.8\" font-family=\"Times New Roman,serif\" font-size=\"14.00\">value = [81, 2194]</text>\r\n<text text-anchor=\"middle\" x=\"644\" y=\"-230.8\" font-family=\"Times New Roman,serif\" font-size=\"14.00\">class = white</text>\r\n</g>\r\n<!-- 0&#45;&gt;8 -->\r\n<g id=\"edge8\" class=\"edge\">\r\n<title>0&#45;&gt;8</title>\r\n<path fill=\"none\" stroke=\"black\" d=\"M555.18,-341.91C566.16,-332.47 577.93,-322.34 589.19,-312.65\"/>\r\n<polygon fill=\"black\" stroke=\"black\" points=\"591.6,-315.2 596.9,-306.02 587.04,-309.89 591.6,-315.2\"/>\r\n<text text-anchor=\"middle\" x=\"595.03\" y=\"-327.25\" font-family=\"Times New Roman,serif\" font-size=\"14.00\">False</text>\r\n</g>\r\n<!-- 2 -->\r\n<g id=\"node3\" class=\"node\">\r\n<title>2</title>\r\n<polygon fill=\"#50a8e8\" stroke=\"black\" points=\"237,-187 119,-187 119,-104 237,-104 237,-187\"/>\r\n<text text-anchor=\"middle\" x=\"178\" y=\"-171.8\" font-family=\"Times New Roman,serif\" font-size=\"14.00\">sugar &lt;= &#45;0.854</text>\r\n<text text-anchor=\"middle\" x=\"178\" y=\"-156.8\" font-family=\"Times New Roman,serif\" font-size=\"14.00\">gini = 0.184</text>\r\n<text text-anchor=\"middle\" x=\"178\" y=\"-141.8\" font-family=\"Times New Roman,serif\" font-size=\"14.00\">samples = 1054</text>\r\n<text text-anchor=\"middle\" x=\"178\" y=\"-126.8\" font-family=\"Times New Roman,serif\" font-size=\"14.00\">value = [108, 946]</text>\r\n<text text-anchor=\"middle\" x=\"178\" y=\"-111.8\" font-family=\"Times New Roman,serif\" font-size=\"14.00\">class = white</text>\r\n</g>\r\n<!-- 1&#45;&gt;2 -->\r\n<g id=\"edge2\" class=\"edge\">\r\n<title>1&#45;&gt;2</title>\r\n<path fill=\"none\" stroke=\"black\" d=\"M311.29,-224.87C290.39,-212.58 267.23,-198.96 246.16,-186.57\"/>\r\n<polygon fill=\"black\" stroke=\"black\" points=\"247.66,-183.4 237.27,-181.35 244.11,-189.43 247.66,-183.4\"/>\r\n</g>\r\n<!-- 5 -->\r\n<g id=\"node6\" class=\"node\">\r\n<title>5</title>\r\n<polygon fill=\"#f8dfcd\" stroke=\"black\" points=\"439.5,-187 314.5,-187 314.5,-104 439.5,-104 439.5,-187\"/>\r\n<text text-anchor=\"middle\" x=\"377\" y=\"-171.8\" font-family=\"Times New Roman,serif\" font-size=\"14.00\">alcohol &lt;= 0.454</text>\r\n<text text-anchor=\"middle\" x=\"377\" y=\"-156.8\" font-family=\"Times New Roman,serif\" font-size=\"14.00\">gini = 0.49</text>\r\n<text text-anchor=\"middle\" x=\"377\" y=\"-141.8\" font-family=\"Times New Roman,serif\" font-size=\"14.00\">samples = 1868</text>\r\n<text text-anchor=\"middle\" x=\"377\" y=\"-126.8\" font-family=\"Times New Roman,serif\" font-size=\"14.00\">value = [1069, 799]</text>\r\n<text text-anchor=\"middle\" x=\"377\" y=\"-111.8\" font-family=\"Times New Roman,serif\" font-size=\"14.00\">class = red</text>\r\n</g>\r\n<!-- 1&#45;&gt;5 -->\r\n<g id=\"edge5\" class=\"edge\">\r\n<title>1&#45;&gt;5</title>\r\n<path fill=\"none\" stroke=\"black\" d=\"M377,-222.91C377,-214.65 377,-205.86 377,-197.3\"/>\r\n<polygon fill=\"black\" stroke=\"black\" points=\"380.5,-197.02 377,-187.02 373.5,-197.02 380.5,-197.02\"/>\r\n</g>\r\n<!-- 3 -->\r\n<g id=\"node4\" class=\"node\">\r\n<title>3</title>\r\n<polygon fill=\"#3c9fe5\" stroke=\"black\" points=\"104,-68 0,-68 0,0 104,0 104,-68\"/>\r\n<text text-anchor=\"middle\" x=\"52\" y=\"-52.8\" font-family=\"Times New Roman,serif\" font-size=\"14.00\">gini = 0.032</text>\r\n<text text-anchor=\"middle\" x=\"52\" y=\"-37.8\" font-family=\"Times New Roman,serif\" font-size=\"14.00\">samples = 555</text>\r\n<text text-anchor=\"middle\" x=\"52\" y=\"-22.8\" font-family=\"Times New Roman,serif\" font-size=\"14.00\">value = [9, 546]</text>\r\n<text text-anchor=\"middle\" x=\"52\" y=\"-7.8\" font-family=\"Times New Roman,serif\" font-size=\"14.00\">class = white</text>\r\n</g>\r\n<!-- 2&#45;&gt;3 -->\r\n<g id=\"edge3\" class=\"edge\">\r\n<title>2&#45;&gt;3</title>\r\n<path fill=\"none\" stroke=\"black\" d=\"M131.08,-103.73C120.27,-94.33 108.79,-84.35 98.01,-74.99\"/>\r\n<polygon fill=\"black\" stroke=\"black\" points=\"100.16,-72.22 90.32,-68.3 95.57,-77.5 100.16,-72.22\"/>\r\n</g>\r\n<!-- 4 -->\r\n<g id=\"node5\" class=\"node\">\r\n<title>4</title>\r\n<polygon fill=\"#6ab5eb\" stroke=\"black\" points=\"233.5,-68 122.5,-68 122.5,0 233.5,0 233.5,-68\"/>\r\n<text text-anchor=\"middle\" x=\"178\" y=\"-52.8\" font-family=\"Times New Roman,serif\" font-size=\"14.00\">gini = 0.318</text>\r\n<text text-anchor=\"middle\" x=\"178\" y=\"-37.8\" font-family=\"Times New Roman,serif\" font-size=\"14.00\">samples = 499</text>\r\n<text text-anchor=\"middle\" x=\"178\" y=\"-22.8\" font-family=\"Times New Roman,serif\" font-size=\"14.00\">value = [99, 400]</text>\r\n<text text-anchor=\"middle\" x=\"178\" y=\"-7.8\" font-family=\"Times New Roman,serif\" font-size=\"14.00\">class = white</text>\r\n</g>\r\n<!-- 2&#45;&gt;4 -->\r\n<g id=\"edge4\" class=\"edge\">\r\n<title>2&#45;&gt;4</title>\r\n<path fill=\"none\" stroke=\"black\" d=\"M178,-103.73C178,-95.52 178,-86.86 178,-78.56\"/>\r\n<polygon fill=\"black\" stroke=\"black\" points=\"181.5,-78.3 178,-68.3 174.5,-78.3 181.5,-78.3\"/>\r\n</g>\r\n<!-- 6 -->\r\n<g id=\"node7\" class=\"node\">\r\n<title>6</title>\r\n<polygon fill=\"#f0b78e\" stroke=\"black\" points=\"370,-68 252,-68 252,0 370,0 370,-68\"/>\r\n<text text-anchor=\"middle\" x=\"311\" y=\"-52.8\" font-family=\"Times New Roman,serif\" font-size=\"14.00\">gini = 0.42</text>\r\n<text text-anchor=\"middle\" x=\"311\" y=\"-37.8\" font-family=\"Times New Roman,serif\" font-size=\"14.00\">samples = 1141</text>\r\n<text text-anchor=\"middle\" x=\"311\" y=\"-22.8\" font-family=\"Times New Roman,serif\" font-size=\"14.00\">value = [798, 343]</text>\r\n<text text-anchor=\"middle\" x=\"311\" y=\"-7.8\" font-family=\"Times New Roman,serif\" font-size=\"14.00\">class = red</text>\r\n</g>\r\n<!-- 5&#45;&gt;6 -->\r\n<g id=\"edge6\" class=\"edge\">\r\n<title>5&#45;&gt;6</title>\r\n<path fill=\"none\" stroke=\"black\" d=\"M352.42,-103.73C347.15,-94.97 341.56,-85.7 336.26,-76.91\"/>\r\n<polygon fill=\"black\" stroke=\"black\" points=\"339.23,-75.06 331.07,-68.3 333.24,-78.67 339.23,-75.06\"/>\r\n</g>\r\n<!-- 7 -->\r\n<g id=\"node8\" class=\"node\">\r\n<title>7</title>\r\n<polygon fill=\"#afd7f4\" stroke=\"black\" points=\"506,-68 388,-68 388,0 506,0 506,-68\"/>\r\n<text text-anchor=\"middle\" x=\"447\" y=\"-52.8\" font-family=\"Times New Roman,serif\" font-size=\"14.00\">gini = 0.468</text>\r\n<text text-anchor=\"middle\" x=\"447\" y=\"-37.8\" font-family=\"Times New Roman,serif\" font-size=\"14.00\">samples = 727</text>\r\n<text text-anchor=\"middle\" x=\"447\" y=\"-22.8\" font-family=\"Times New Roman,serif\" font-size=\"14.00\">value = [271, 456]</text>\r\n<text text-anchor=\"middle\" x=\"447\" y=\"-7.8\" font-family=\"Times New Roman,serif\" font-size=\"14.00\">class = white</text>\r\n</g>\r\n<!-- 5&#45;&gt;7 -->\r\n<g id=\"edge7\" class=\"edge\">\r\n<title>5&#45;&gt;7</title>\r\n<path fill=\"none\" stroke=\"black\" d=\"M403.07,-103.73C408.66,-94.97 414.59,-85.7 420.21,-76.91\"/>\r\n<polygon fill=\"black\" stroke=\"black\" points=\"423.28,-78.61 425.71,-68.3 417.38,-74.84 423.28,-78.61\"/>\r\n</g>\r\n<!-- 9 -->\r\n<g id=\"node10\" class=\"node\">\r\n<title>9</title>\r\n<polygon fill=\"#50a9e8\" stroke=\"black\" points=\"699.5,-187 588.5,-187 588.5,-104 699.5,-104 699.5,-187\"/>\r\n<text text-anchor=\"middle\" x=\"644\" y=\"-171.8\" font-family=\"Times New Roman,serif\" font-size=\"14.00\">pH &lt;= 0.238</text>\r\n<text text-anchor=\"middle\" x=\"644\" y=\"-156.8\" font-family=\"Times New Roman,serif\" font-size=\"14.00\">gini = 0.189</text>\r\n<text text-anchor=\"middle\" x=\"644\" y=\"-141.8\" font-family=\"Times New Roman,serif\" font-size=\"14.00\">samples = 529</text>\r\n<text text-anchor=\"middle\" x=\"644\" y=\"-126.8\" font-family=\"Times New Roman,serif\" font-size=\"14.00\">value = [56, 473]</text>\r\n<text text-anchor=\"middle\" x=\"644\" y=\"-111.8\" font-family=\"Times New Roman,serif\" font-size=\"14.00\">class = white</text>\r\n</g>\r\n<!-- 8&#45;&gt;9 -->\r\n<g id=\"edge9\" class=\"edge\">\r\n<title>8&#45;&gt;9</title>\r\n<path fill=\"none\" stroke=\"black\" d=\"M644,-222.91C644,-214.65 644,-205.86 644,-197.3\"/>\r\n<polygon fill=\"black\" stroke=\"black\" points=\"647.5,-197.02 644,-187.02 640.5,-197.02 647.5,-197.02\"/>\r\n</g>\r\n<!-- 12 -->\r\n<g id=\"node13\" class=\"node\">\r\n<title>12</title>\r\n<polygon fill=\"#3c9ee5\" stroke=\"black\" points=\"901,-187 783,-187 783,-104 901,-104 901,-187\"/>\r\n<text text-anchor=\"middle\" x=\"842\" y=\"-171.8\" font-family=\"Times New Roman,serif\" font-size=\"14.00\">pH &lt;= 0.928</text>\r\n<text text-anchor=\"middle\" x=\"842\" y=\"-156.8\" font-family=\"Times New Roman,serif\" font-size=\"14.00\">gini = 0.028</text>\r\n<text text-anchor=\"middle\" x=\"842\" y=\"-141.8\" font-family=\"Times New Roman,serif\" font-size=\"14.00\">samples = 1746</text>\r\n<text text-anchor=\"middle\" x=\"842\" y=\"-126.8\" font-family=\"Times New Roman,serif\" font-size=\"14.00\">value = [25, 1721]</text>\r\n<text text-anchor=\"middle\" x=\"842\" y=\"-111.8\" font-family=\"Times New Roman,serif\" font-size=\"14.00\">class = white</text>\r\n</g>\r\n<!-- 8&#45;&gt;12 -->\r\n<g id=\"edge12\" class=\"edge\">\r\n<title>8&#45;&gt;12</title>\r\n<path fill=\"none\" stroke=\"black\" d=\"M703.14,-228.55C725.47,-215.36 751.05,-200.24 774.12,-186.61\"/>\r\n<polygon fill=\"black\" stroke=\"black\" points=\"776,-189.57 782.82,-181.47 772.43,-183.54 776,-189.57\"/>\r\n</g>\r\n<!-- 10 -->\r\n<g id=\"node11\" class=\"node\">\r\n<title>10</title>\r\n<polygon fill=\"#44a2e6\" stroke=\"black\" points=\"635.5,-68 524.5,-68 524.5,0 635.5,0 635.5,-68\"/>\r\n<text text-anchor=\"middle\" x=\"580\" y=\"-52.8\" font-family=\"Times New Roman,serif\" font-size=\"14.00\">gini = 0.098</text>\r\n<text text-anchor=\"middle\" x=\"580\" y=\"-37.8\" font-family=\"Times New Roman,serif\" font-size=\"14.00\">samples = 329</text>\r\n<text text-anchor=\"middle\" x=\"580\" y=\"-22.8\" font-family=\"Times New Roman,serif\" font-size=\"14.00\">value = [17, 312]</text>\r\n<text text-anchor=\"middle\" x=\"580\" y=\"-7.8\" font-family=\"Times New Roman,serif\" font-size=\"14.00\">class = white</text>\r\n</g>\r\n<!-- 9&#45;&gt;10 -->\r\n<g id=\"edge10\" class=\"edge\">\r\n<title>9&#45;&gt;10</title>\r\n<path fill=\"none\" stroke=\"black\" d=\"M620.17,-103.73C615.1,-95.06 609.75,-85.9 604.65,-77.18\"/>\r\n<polygon fill=\"black\" stroke=\"black\" points=\"607.53,-75.17 599.46,-68.3 601.49,-78.7 607.53,-75.17\"/>\r\n</g>\r\n<!-- 11 -->\r\n<g id=\"node12\" class=\"node\">\r\n<title>11</title>\r\n<polygon fill=\"#69b5eb\" stroke=\"black\" points=\"764.5,-68 653.5,-68 653.5,0 764.5,0 764.5,-68\"/>\r\n<text text-anchor=\"middle\" x=\"709\" y=\"-52.8\" font-family=\"Times New Roman,serif\" font-size=\"14.00\">gini = 0.314</text>\r\n<text text-anchor=\"middle\" x=\"709\" y=\"-37.8\" font-family=\"Times New Roman,serif\" font-size=\"14.00\">samples = 200</text>\r\n<text text-anchor=\"middle\" x=\"709\" y=\"-22.8\" font-family=\"Times New Roman,serif\" font-size=\"14.00\">value = [39, 161]</text>\r\n<text text-anchor=\"middle\" x=\"709\" y=\"-7.8\" font-family=\"Times New Roman,serif\" font-size=\"14.00\">class = white</text>\r\n</g>\r\n<!-- 9&#45;&gt;11 -->\r\n<g id=\"edge11\" class=\"edge\">\r\n<title>9&#45;&gt;11</title>\r\n<path fill=\"none\" stroke=\"black\" d=\"M668.2,-103.73C673.4,-94.97 678.9,-85.7 684.12,-76.91\"/>\r\n<polygon fill=\"black\" stroke=\"black\" points=\"687.14,-78.69 689.23,-68.3 681.12,-75.11 687.14,-78.69\"/>\r\n</g>\r\n<!-- 13 -->\r\n<g id=\"node14\" class=\"node\">\r\n<title>13</title>\r\n<polygon fill=\"#3b9ee5\" stroke=\"black\" points=\"901,-68 783,-68 783,0 901,0 901,-68\"/>\r\n<text text-anchor=\"middle\" x=\"842\" y=\"-52.8\" font-family=\"Times New Roman,serif\" font-size=\"14.00\">gini = 0.019</text>\r\n<text text-anchor=\"middle\" x=\"842\" y=\"-37.8\" font-family=\"Times New Roman,serif\" font-size=\"14.00\">samples = 1603</text>\r\n<text text-anchor=\"middle\" x=\"842\" y=\"-22.8\" font-family=\"Times New Roman,serif\" font-size=\"14.00\">value = [15, 1588]</text>\r\n<text text-anchor=\"middle\" x=\"842\" y=\"-7.8\" font-family=\"Times New Roman,serif\" font-size=\"14.00\">class = white</text>\r\n</g>\r\n<!-- 12&#45;&gt;13 -->\r\n<g id=\"edge13\" class=\"edge\">\r\n<title>12&#45;&gt;13</title>\r\n<path fill=\"none\" stroke=\"black\" d=\"M842,-103.73C842,-95.52 842,-86.86 842,-78.56\"/>\r\n<polygon fill=\"black\" stroke=\"black\" points=\"845.5,-78.3 842,-68.3 838.5,-78.3 845.5,-78.3\"/>\r\n</g>\r\n<!-- 14 -->\r\n<g id=\"node15\" class=\"node\">\r\n<title>14</title>\r\n<polygon fill=\"#48a4e7\" stroke=\"black\" points=\"1030.5,-68 919.5,-68 919.5,0 1030.5,0 1030.5,-68\"/>\r\n<text text-anchor=\"middle\" x=\"975\" y=\"-52.8\" font-family=\"Times New Roman,serif\" font-size=\"14.00\">gini = 0.13</text>\r\n<text text-anchor=\"middle\" x=\"975\" y=\"-37.8\" font-family=\"Times New Roman,serif\" font-size=\"14.00\">samples = 143</text>\r\n<text text-anchor=\"middle\" x=\"975\" y=\"-22.8\" font-family=\"Times New Roman,serif\" font-size=\"14.00\">value = [10, 133]</text>\r\n<text text-anchor=\"middle\" x=\"975\" y=\"-7.8\" font-family=\"Times New Roman,serif\" font-size=\"14.00\">class = white</text>\r\n</g>\r\n<!-- 12&#45;&gt;14 -->\r\n<g id=\"edge14\" class=\"edge\">\r\n<title>12&#45;&gt;14</title>\r\n<path fill=\"none\" stroke=\"black\" d=\"M891.52,-103.73C903.05,-94.24 915.3,-84.16 926.76,-74.72\"/>\r\n<polygon fill=\"black\" stroke=\"black\" points=\"929.06,-77.36 934.55,-68.3 924.61,-71.95 929.06,-77.36\"/>\r\n</g>\r\n</g>\r\n</svg>\r\n"
     },
     "metadata": {}
    }
   ],
   "metadata": {}
  },
  {
   "cell_type": "code",
   "execution_count": 93,
   "source": [
    "dt=DecisionTreeClassifier(max_depth=3,random_state=42) #전처리가 필요없으므로 scaled사용x\r\n",
    "dt.fit(X_train,y_train)"
   ],
   "outputs": [
    {
     "output_type": "execute_result",
     "data": {
      "text/plain": [
       "DecisionTreeClassifier(max_depth=3, random_state=42)"
      ]
     },
     "metadata": {},
     "execution_count": 93
    }
   ],
   "metadata": {}
  },
  {
   "cell_type": "code",
   "execution_count": 97,
   "source": [
    "dot_graph=export_graphviz(dt,out_file=None,\r\n",
    "                class_names=['white','red'],\r\n",
    "                feature_names=['alcohol','sugar','pH'],\r\n",
    "                filled=True)\r\n",
    "\r\n",
    "display(graphviz.Source(dot_graph))"
   ],
   "outputs": [
    {
     "output_type": "display_data",
     "data": {
      "text/plain": [
       "<graphviz.files.Source at 0x1d87e6d3070>"
      ],
      "image/svg+xml": "<?xml version=\"1.0\" encoding=\"UTF-8\" standalone=\"no\"?>\r\n<!DOCTYPE svg PUBLIC \"-//W3C//DTD SVG 1.1//EN\"\r\n \"http://www.w3.org/Graphics/SVG/1.1/DTD/svg11.dtd\">\r\n<!-- Generated by graphviz version 2.48.0 (20210717.1556)\r\n -->\r\n<!-- Title: Tree Pages: 1 -->\r\n<svg width=\"1039pt\" height=\"433pt\"\r\n viewBox=\"0.00 0.00 1038.50 433.00\" xmlns=\"http://www.w3.org/2000/svg\" xmlns:xlink=\"http://www.w3.org/1999/xlink\">\r\n<g id=\"graph0\" class=\"graph\" transform=\"scale(1 1) rotate(0) translate(4 429)\">\r\n<title>Tree</title>\r\n<polygon fill=\"white\" stroke=\"transparent\" points=\"-4,4 -4,-429 1034.5,-429 1034.5,4 -4,4\"/>\r\n<!-- 0 -->\r\n<g id=\"node1\" class=\"node\">\r\n<title>0</title>\r\n<polygon fill=\"#78bced\" stroke=\"black\" points=\"573.5,-425 442.5,-425 442.5,-342 573.5,-342 573.5,-425\"/>\r\n<text text-anchor=\"middle\" x=\"508\" y=\"-409.8\" font-family=\"Times New Roman,serif\" font-size=\"14.00\">sugar &lt;= 4.325</text>\r\n<text text-anchor=\"middle\" x=\"508\" y=\"-394.8\" font-family=\"Times New Roman,serif\" font-size=\"14.00\">gini = 0.367</text>\r\n<text text-anchor=\"middle\" x=\"508\" y=\"-379.8\" font-family=\"Times New Roman,serif\" font-size=\"14.00\">samples = 5197</text>\r\n<text text-anchor=\"middle\" x=\"508\" y=\"-364.8\" font-family=\"Times New Roman,serif\" font-size=\"14.00\">value = [1258, 3939]</text>\r\n<text text-anchor=\"middle\" x=\"508\" y=\"-349.8\" font-family=\"Times New Roman,serif\" font-size=\"14.00\">class = red</text>\r\n</g>\r\n<!-- 1 -->\r\n<g id=\"node2\" class=\"node\">\r\n<title>1</title>\r\n<polygon fill=\"#bfdff7\" stroke=\"black\" points=\"442.5,-306 311.5,-306 311.5,-223 442.5,-223 442.5,-306\"/>\r\n<text text-anchor=\"middle\" x=\"377\" y=\"-290.8\" font-family=\"Times New Roman,serif\" font-size=\"14.00\">sugar &lt;= 1.625</text>\r\n<text text-anchor=\"middle\" x=\"377\" y=\"-275.8\" font-family=\"Times New Roman,serif\" font-size=\"14.00\">gini = 0.481</text>\r\n<text text-anchor=\"middle\" x=\"377\" y=\"-260.8\" font-family=\"Times New Roman,serif\" font-size=\"14.00\">samples = 2922</text>\r\n<text text-anchor=\"middle\" x=\"377\" y=\"-245.8\" font-family=\"Times New Roman,serif\" font-size=\"14.00\">value = [1177, 1745]</text>\r\n<text text-anchor=\"middle\" x=\"377\" y=\"-230.8\" font-family=\"Times New Roman,serif\" font-size=\"14.00\">class = red</text>\r\n</g>\r\n<!-- 0&#45;&gt;1 -->\r\n<g id=\"edge1\" class=\"edge\">\r\n<title>0&#45;&gt;1</title>\r\n<path fill=\"none\" stroke=\"black\" d=\"M462.55,-341.91C452.08,-332.56 440.86,-322.54 430.1,-312.93\"/>\r\n<polygon fill=\"black\" stroke=\"black\" points=\"432.16,-310.07 422.37,-306.02 427.5,-315.29 432.16,-310.07\"/>\r\n<text text-anchor=\"middle\" x=\"423.78\" y=\"-327.28\" font-family=\"Times New Roman,serif\" font-size=\"14.00\">True</text>\r\n</g>\r\n<!-- 8 -->\r\n<g id=\"node9\" class=\"node\">\r\n<title>8</title>\r\n<polygon fill=\"#40a1e6\" stroke=\"black\" points=\"703,-306 585,-306 585,-223 703,-223 703,-306\"/>\r\n<text text-anchor=\"middle\" x=\"644\" y=\"-290.8\" font-family=\"Times New Roman,serif\" font-size=\"14.00\">sugar &lt;= 6.45</text>\r\n<text text-anchor=\"middle\" x=\"644\" y=\"-275.8\" font-family=\"Times New Roman,serif\" font-size=\"14.00\">gini = 0.069</text>\r\n<text text-anchor=\"middle\" x=\"644\" y=\"-260.8\" font-family=\"Times New Roman,serif\" font-size=\"14.00\">samples = 2275</text>\r\n<text text-anchor=\"middle\" x=\"644\" y=\"-245.8\" font-family=\"Times New Roman,serif\" font-size=\"14.00\">value = [81, 2194]</text>\r\n<text text-anchor=\"middle\" x=\"644\" y=\"-230.8\" font-family=\"Times New Roman,serif\" font-size=\"14.00\">class = red</text>\r\n</g>\r\n<!-- 0&#45;&gt;8 -->\r\n<g id=\"edge8\" class=\"edge\">\r\n<title>0&#45;&gt;8</title>\r\n<path fill=\"none\" stroke=\"black\" d=\"M555.18,-341.91C566.16,-332.47 577.93,-322.34 589.19,-312.65\"/>\r\n<polygon fill=\"black\" stroke=\"black\" points=\"591.6,-315.2 596.9,-306.02 587.04,-309.89 591.6,-315.2\"/>\r\n<text text-anchor=\"middle\" x=\"595.03\" y=\"-327.25\" font-family=\"Times New Roman,serif\" font-size=\"14.00\">False</text>\r\n</g>\r\n<!-- 2 -->\r\n<g id=\"node3\" class=\"node\">\r\n<title>2</title>\r\n<polygon fill=\"#50a8e8\" stroke=\"black\" points=\"237,-187 119,-187 119,-104 237,-104 237,-187\"/>\r\n<text text-anchor=\"middle\" x=\"178\" y=\"-171.8\" font-family=\"Times New Roman,serif\" font-size=\"14.00\">sugar &lt;= 1.375</text>\r\n<text text-anchor=\"middle\" x=\"178\" y=\"-156.8\" font-family=\"Times New Roman,serif\" font-size=\"14.00\">gini = 0.184</text>\r\n<text text-anchor=\"middle\" x=\"178\" y=\"-141.8\" font-family=\"Times New Roman,serif\" font-size=\"14.00\">samples = 1054</text>\r\n<text text-anchor=\"middle\" x=\"178\" y=\"-126.8\" font-family=\"Times New Roman,serif\" font-size=\"14.00\">value = [108, 946]</text>\r\n<text text-anchor=\"middle\" x=\"178\" y=\"-111.8\" font-family=\"Times New Roman,serif\" font-size=\"14.00\">class = red</text>\r\n</g>\r\n<!-- 1&#45;&gt;2 -->\r\n<g id=\"edge2\" class=\"edge\">\r\n<title>1&#45;&gt;2</title>\r\n<path fill=\"none\" stroke=\"black\" d=\"M311.29,-224.87C290.39,-212.58 267.23,-198.96 246.16,-186.57\"/>\r\n<polygon fill=\"black\" stroke=\"black\" points=\"247.66,-183.4 237.27,-181.35 244.11,-189.43 247.66,-183.4\"/>\r\n</g>\r\n<!-- 5 -->\r\n<g id=\"node6\" class=\"node\">\r\n<title>5</title>\r\n<polygon fill=\"#f8dfcd\" stroke=\"black\" points=\"439.5,-187 314.5,-187 314.5,-104 439.5,-104 439.5,-187\"/>\r\n<text text-anchor=\"middle\" x=\"377\" y=\"-171.8\" font-family=\"Times New Roman,serif\" font-size=\"14.00\">alcohol &lt;= 11.025</text>\r\n<text text-anchor=\"middle\" x=\"377\" y=\"-156.8\" font-family=\"Times New Roman,serif\" font-size=\"14.00\">gini = 0.49</text>\r\n<text text-anchor=\"middle\" x=\"377\" y=\"-141.8\" font-family=\"Times New Roman,serif\" font-size=\"14.00\">samples = 1868</text>\r\n<text text-anchor=\"middle\" x=\"377\" y=\"-126.8\" font-family=\"Times New Roman,serif\" font-size=\"14.00\">value = [1069, 799]</text>\r\n<text text-anchor=\"middle\" x=\"377\" y=\"-111.8\" font-family=\"Times New Roman,serif\" font-size=\"14.00\">class = white</text>\r\n</g>\r\n<!-- 1&#45;&gt;5 -->\r\n<g id=\"edge5\" class=\"edge\">\r\n<title>1&#45;&gt;5</title>\r\n<path fill=\"none\" stroke=\"black\" d=\"M377,-222.91C377,-214.65 377,-205.86 377,-197.3\"/>\r\n<polygon fill=\"black\" stroke=\"black\" points=\"380.5,-197.02 377,-187.02 373.5,-197.02 380.5,-197.02\"/>\r\n</g>\r\n<!-- 3 -->\r\n<g id=\"node4\" class=\"node\">\r\n<title>3</title>\r\n<polygon fill=\"#3c9fe5\" stroke=\"black\" points=\"104,-68 0,-68 0,0 104,0 104,-68\"/>\r\n<text text-anchor=\"middle\" x=\"52\" y=\"-52.8\" font-family=\"Times New Roman,serif\" font-size=\"14.00\">gini = 0.032</text>\r\n<text text-anchor=\"middle\" x=\"52\" y=\"-37.8\" font-family=\"Times New Roman,serif\" font-size=\"14.00\">samples = 555</text>\r\n<text text-anchor=\"middle\" x=\"52\" y=\"-22.8\" font-family=\"Times New Roman,serif\" font-size=\"14.00\">value = [9, 546]</text>\r\n<text text-anchor=\"middle\" x=\"52\" y=\"-7.8\" font-family=\"Times New Roman,serif\" font-size=\"14.00\">class = red</text>\r\n</g>\r\n<!-- 2&#45;&gt;3 -->\r\n<g id=\"edge3\" class=\"edge\">\r\n<title>2&#45;&gt;3</title>\r\n<path fill=\"none\" stroke=\"black\" d=\"M131.08,-103.73C120.27,-94.33 108.79,-84.35 98.01,-74.99\"/>\r\n<polygon fill=\"black\" stroke=\"black\" points=\"100.16,-72.22 90.32,-68.3 95.57,-77.5 100.16,-72.22\"/>\r\n</g>\r\n<!-- 4 -->\r\n<g id=\"node5\" class=\"node\">\r\n<title>4</title>\r\n<polygon fill=\"#6ab5eb\" stroke=\"black\" points=\"233.5,-68 122.5,-68 122.5,0 233.5,0 233.5,-68\"/>\r\n<text text-anchor=\"middle\" x=\"178\" y=\"-52.8\" font-family=\"Times New Roman,serif\" font-size=\"14.00\">gini = 0.318</text>\r\n<text text-anchor=\"middle\" x=\"178\" y=\"-37.8\" font-family=\"Times New Roman,serif\" font-size=\"14.00\">samples = 499</text>\r\n<text text-anchor=\"middle\" x=\"178\" y=\"-22.8\" font-family=\"Times New Roman,serif\" font-size=\"14.00\">value = [99, 400]</text>\r\n<text text-anchor=\"middle\" x=\"178\" y=\"-7.8\" font-family=\"Times New Roman,serif\" font-size=\"14.00\">class = red</text>\r\n</g>\r\n<!-- 2&#45;&gt;4 -->\r\n<g id=\"edge4\" class=\"edge\">\r\n<title>2&#45;&gt;4</title>\r\n<path fill=\"none\" stroke=\"black\" d=\"M178,-103.73C178,-95.52 178,-86.86 178,-78.56\"/>\r\n<polygon fill=\"black\" stroke=\"black\" points=\"181.5,-78.3 178,-68.3 174.5,-78.3 181.5,-78.3\"/>\r\n</g>\r\n<!-- 6 -->\r\n<g id=\"node7\" class=\"node\">\r\n<title>6</title>\r\n<polygon fill=\"#f0b78e\" stroke=\"black\" points=\"370,-68 252,-68 252,0 370,0 370,-68\"/>\r\n<text text-anchor=\"middle\" x=\"311\" y=\"-52.8\" font-family=\"Times New Roman,serif\" font-size=\"14.00\">gini = 0.42</text>\r\n<text text-anchor=\"middle\" x=\"311\" y=\"-37.8\" font-family=\"Times New Roman,serif\" font-size=\"14.00\">samples = 1141</text>\r\n<text text-anchor=\"middle\" x=\"311\" y=\"-22.8\" font-family=\"Times New Roman,serif\" font-size=\"14.00\">value = [798, 343]</text>\r\n<text text-anchor=\"middle\" x=\"311\" y=\"-7.8\" font-family=\"Times New Roman,serif\" font-size=\"14.00\">class = white</text>\r\n</g>\r\n<!-- 5&#45;&gt;6 -->\r\n<g id=\"edge6\" class=\"edge\">\r\n<title>5&#45;&gt;6</title>\r\n<path fill=\"none\" stroke=\"black\" d=\"M352.42,-103.73C347.15,-94.97 341.56,-85.7 336.26,-76.91\"/>\r\n<polygon fill=\"black\" stroke=\"black\" points=\"339.23,-75.06 331.07,-68.3 333.24,-78.67 339.23,-75.06\"/>\r\n</g>\r\n<!-- 7 -->\r\n<g id=\"node8\" class=\"node\">\r\n<title>7</title>\r\n<polygon fill=\"#afd7f4\" stroke=\"black\" points=\"506,-68 388,-68 388,0 506,0 506,-68\"/>\r\n<text text-anchor=\"middle\" x=\"447\" y=\"-52.8\" font-family=\"Times New Roman,serif\" font-size=\"14.00\">gini = 0.468</text>\r\n<text text-anchor=\"middle\" x=\"447\" y=\"-37.8\" font-family=\"Times New Roman,serif\" font-size=\"14.00\">samples = 727</text>\r\n<text text-anchor=\"middle\" x=\"447\" y=\"-22.8\" font-family=\"Times New Roman,serif\" font-size=\"14.00\">value = [271, 456]</text>\r\n<text text-anchor=\"middle\" x=\"447\" y=\"-7.8\" font-family=\"Times New Roman,serif\" font-size=\"14.00\">class = red</text>\r\n</g>\r\n<!-- 5&#45;&gt;7 -->\r\n<g id=\"edge7\" class=\"edge\">\r\n<title>5&#45;&gt;7</title>\r\n<path fill=\"none\" stroke=\"black\" d=\"M403.07,-103.73C408.66,-94.97 414.59,-85.7 420.21,-76.91\"/>\r\n<polygon fill=\"black\" stroke=\"black\" points=\"423.28,-78.61 425.71,-68.3 417.38,-74.84 423.28,-78.61\"/>\r\n</g>\r\n<!-- 9 -->\r\n<g id=\"node10\" class=\"node\">\r\n<title>9</title>\r\n<polygon fill=\"#50a9e8\" stroke=\"black\" points=\"699.5,-187 588.5,-187 588.5,-104 699.5,-104 699.5,-187\"/>\r\n<text text-anchor=\"middle\" x=\"644\" y=\"-171.8\" font-family=\"Times New Roman,serif\" font-size=\"14.00\">pH &lt;= 3.255</text>\r\n<text text-anchor=\"middle\" x=\"644\" y=\"-156.8\" font-family=\"Times New Roman,serif\" font-size=\"14.00\">gini = 0.189</text>\r\n<text text-anchor=\"middle\" x=\"644\" y=\"-141.8\" font-family=\"Times New Roman,serif\" font-size=\"14.00\">samples = 529</text>\r\n<text text-anchor=\"middle\" x=\"644\" y=\"-126.8\" font-family=\"Times New Roman,serif\" font-size=\"14.00\">value = [56, 473]</text>\r\n<text text-anchor=\"middle\" x=\"644\" y=\"-111.8\" font-family=\"Times New Roman,serif\" font-size=\"14.00\">class = red</text>\r\n</g>\r\n<!-- 8&#45;&gt;9 -->\r\n<g id=\"edge9\" class=\"edge\">\r\n<title>8&#45;&gt;9</title>\r\n<path fill=\"none\" stroke=\"black\" d=\"M644,-222.91C644,-214.65 644,-205.86 644,-197.3\"/>\r\n<polygon fill=\"black\" stroke=\"black\" points=\"647.5,-197.02 644,-187.02 640.5,-197.02 647.5,-197.02\"/>\r\n</g>\r\n<!-- 12 -->\r\n<g id=\"node13\" class=\"node\">\r\n<title>12</title>\r\n<polygon fill=\"#3c9ee5\" stroke=\"black\" points=\"901,-187 783,-187 783,-104 901,-104 901,-187\"/>\r\n<text text-anchor=\"middle\" x=\"842\" y=\"-171.8\" font-family=\"Times New Roman,serif\" font-size=\"14.00\">pH &lt;= 3.365</text>\r\n<text text-anchor=\"middle\" x=\"842\" y=\"-156.8\" font-family=\"Times New Roman,serif\" font-size=\"14.00\">gini = 0.028</text>\r\n<text text-anchor=\"middle\" x=\"842\" y=\"-141.8\" font-family=\"Times New Roman,serif\" font-size=\"14.00\">samples = 1746</text>\r\n<text text-anchor=\"middle\" x=\"842\" y=\"-126.8\" font-family=\"Times New Roman,serif\" font-size=\"14.00\">value = [25, 1721]</text>\r\n<text text-anchor=\"middle\" x=\"842\" y=\"-111.8\" font-family=\"Times New Roman,serif\" font-size=\"14.00\">class = red</text>\r\n</g>\r\n<!-- 8&#45;&gt;12 -->\r\n<g id=\"edge12\" class=\"edge\">\r\n<title>8&#45;&gt;12</title>\r\n<path fill=\"none\" stroke=\"black\" d=\"M703.14,-228.55C725.47,-215.36 751.05,-200.24 774.12,-186.61\"/>\r\n<polygon fill=\"black\" stroke=\"black\" points=\"776,-189.57 782.82,-181.47 772.43,-183.54 776,-189.57\"/>\r\n</g>\r\n<!-- 10 -->\r\n<g id=\"node11\" class=\"node\">\r\n<title>10</title>\r\n<polygon fill=\"#44a2e6\" stroke=\"black\" points=\"635.5,-68 524.5,-68 524.5,0 635.5,0 635.5,-68\"/>\r\n<text text-anchor=\"middle\" x=\"580\" y=\"-52.8\" font-family=\"Times New Roman,serif\" font-size=\"14.00\">gini = 0.098</text>\r\n<text text-anchor=\"middle\" x=\"580\" y=\"-37.8\" font-family=\"Times New Roman,serif\" font-size=\"14.00\">samples = 329</text>\r\n<text text-anchor=\"middle\" x=\"580\" y=\"-22.8\" font-family=\"Times New Roman,serif\" font-size=\"14.00\">value = [17, 312]</text>\r\n<text text-anchor=\"middle\" x=\"580\" y=\"-7.8\" font-family=\"Times New Roman,serif\" font-size=\"14.00\">class = red</text>\r\n</g>\r\n<!-- 9&#45;&gt;10 -->\r\n<g id=\"edge10\" class=\"edge\">\r\n<title>9&#45;&gt;10</title>\r\n<path fill=\"none\" stroke=\"black\" d=\"M620.17,-103.73C615.1,-95.06 609.75,-85.9 604.65,-77.18\"/>\r\n<polygon fill=\"black\" stroke=\"black\" points=\"607.53,-75.17 599.46,-68.3 601.49,-78.7 607.53,-75.17\"/>\r\n</g>\r\n<!-- 11 -->\r\n<g id=\"node12\" class=\"node\">\r\n<title>11</title>\r\n<polygon fill=\"#69b5eb\" stroke=\"black\" points=\"764.5,-68 653.5,-68 653.5,0 764.5,0 764.5,-68\"/>\r\n<text text-anchor=\"middle\" x=\"709\" y=\"-52.8\" font-family=\"Times New Roman,serif\" font-size=\"14.00\">gini = 0.314</text>\r\n<text text-anchor=\"middle\" x=\"709\" y=\"-37.8\" font-family=\"Times New Roman,serif\" font-size=\"14.00\">samples = 200</text>\r\n<text text-anchor=\"middle\" x=\"709\" y=\"-22.8\" font-family=\"Times New Roman,serif\" font-size=\"14.00\">value = [39, 161]</text>\r\n<text text-anchor=\"middle\" x=\"709\" y=\"-7.8\" font-family=\"Times New Roman,serif\" font-size=\"14.00\">class = red</text>\r\n</g>\r\n<!-- 9&#45;&gt;11 -->\r\n<g id=\"edge11\" class=\"edge\">\r\n<title>9&#45;&gt;11</title>\r\n<path fill=\"none\" stroke=\"black\" d=\"M668.2,-103.73C673.4,-94.97 678.9,-85.7 684.12,-76.91\"/>\r\n<polygon fill=\"black\" stroke=\"black\" points=\"687.14,-78.69 689.23,-68.3 681.12,-75.11 687.14,-78.69\"/>\r\n</g>\r\n<!-- 13 -->\r\n<g id=\"node14\" class=\"node\">\r\n<title>13</title>\r\n<polygon fill=\"#3b9ee5\" stroke=\"black\" points=\"901,-68 783,-68 783,0 901,0 901,-68\"/>\r\n<text text-anchor=\"middle\" x=\"842\" y=\"-52.8\" font-family=\"Times New Roman,serif\" font-size=\"14.00\">gini = 0.019</text>\r\n<text text-anchor=\"middle\" x=\"842\" y=\"-37.8\" font-family=\"Times New Roman,serif\" font-size=\"14.00\">samples = 1603</text>\r\n<text text-anchor=\"middle\" x=\"842\" y=\"-22.8\" font-family=\"Times New Roman,serif\" font-size=\"14.00\">value = [15, 1588]</text>\r\n<text text-anchor=\"middle\" x=\"842\" y=\"-7.8\" font-family=\"Times New Roman,serif\" font-size=\"14.00\">class = red</text>\r\n</g>\r\n<!-- 12&#45;&gt;13 -->\r\n<g id=\"edge13\" class=\"edge\">\r\n<title>12&#45;&gt;13</title>\r\n<path fill=\"none\" stroke=\"black\" d=\"M842,-103.73C842,-95.52 842,-86.86 842,-78.56\"/>\r\n<polygon fill=\"black\" stroke=\"black\" points=\"845.5,-78.3 842,-68.3 838.5,-78.3 845.5,-78.3\"/>\r\n</g>\r\n<!-- 14 -->\r\n<g id=\"node15\" class=\"node\">\r\n<title>14</title>\r\n<polygon fill=\"#48a4e7\" stroke=\"black\" points=\"1030.5,-68 919.5,-68 919.5,0 1030.5,0 1030.5,-68\"/>\r\n<text text-anchor=\"middle\" x=\"975\" y=\"-52.8\" font-family=\"Times New Roman,serif\" font-size=\"14.00\">gini = 0.13</text>\r\n<text text-anchor=\"middle\" x=\"975\" y=\"-37.8\" font-family=\"Times New Roman,serif\" font-size=\"14.00\">samples = 143</text>\r\n<text text-anchor=\"middle\" x=\"975\" y=\"-22.8\" font-family=\"Times New Roman,serif\" font-size=\"14.00\">value = [10, 133]</text>\r\n<text text-anchor=\"middle\" x=\"975\" y=\"-7.8\" font-family=\"Times New Roman,serif\" font-size=\"14.00\">class = red</text>\r\n</g>\r\n<!-- 12&#45;&gt;14 -->\r\n<g id=\"edge14\" class=\"edge\">\r\n<title>12&#45;&gt;14</title>\r\n<path fill=\"none\" stroke=\"black\" d=\"M891.52,-103.73C903.05,-94.24 915.3,-84.16 926.76,-74.72\"/>\r\n<polygon fill=\"black\" stroke=\"black\" points=\"929.06,-77.36 934.55,-68.3 924.61,-71.95 929.06,-77.36\"/>\r\n</g>\r\n</g>\r\n</svg>\r\n"
     },
     "metadata": {}
    }
   ],
   "metadata": {}
  },
  {
   "cell_type": "code",
   "execution_count": 99,
   "source": [
    "#당도<-알코올도수<-pH순, 특성중요도\r\n",
    "dt.feature_importances_\r\n"
   ],
   "outputs": [
    {
     "output_type": "execute_result",
     "data": {
      "text/plain": [
       "array([0.12345626, 0.86862934, 0.0079144 ])"
      ]
     },
     "metadata": {},
     "execution_count": 99
    }
   ],
   "metadata": {}
  },
  {
   "cell_type": "code",
   "execution_count": null,
   "source": [],
   "outputs": [],
   "metadata": {}
  }
 ],
 "metadata": {
  "orig_nbformat": 4,
  "language_info": {
   "name": "python",
   "version": "3.8.8",
   "mimetype": "text/x-python",
   "codemirror_mode": {
    "name": "ipython",
    "version": 3
   },
   "pygments_lexer": "ipython3",
   "nbconvert_exporter": "python",
   "file_extension": ".py"
  },
  "kernelspec": {
   "name": "python3",
   "display_name": "Python 3.8.8 64-bit ('base': conda)"
  },
  "interpreter": {
   "hash": "7e86631c365131cef62360cd2a60920f2088a85e3b5b379ce36677a33b636180"
  }
 },
 "nbformat": 4,
 "nbformat_minor": 2
}